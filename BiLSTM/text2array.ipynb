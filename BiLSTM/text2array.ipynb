{
 "cells": [
  {
   "cell_type": "code",
   "execution_count": 3,
   "metadata": {
    "collapsed": true
   },
   "outputs": [],
   "source": [
    "import os\n",
    "import numpy as np"
   ]
  },
  {
   "cell_type": "code",
   "execution_count": 4,
   "metadata": {
    "collapsed": false
   },
   "outputs": [
    {
     "data": {
      "text/plain": [
       "u'/home/blazingboosh/EDGE_IN/speech/BiLSTM'"
      ]
     },
     "execution_count": 4,
     "metadata": {},
     "output_type": "execute_result"
    }
   ],
   "source": [
    "pwd"
   ]
  },
  {
   "cell_type": "code",
   "execution_count": 5,
   "metadata": {
    "collapsed": true
   },
   "outputs": [],
   "source": [
    "base = '/home/blazingboosh/EDGE_IN/speech/BiLSTM/Parameter_Matrices/'\n",
    "dir_list = [base + 'input_layer_to_BLSTM/', base + 'Fully_connected_layer/', base + 'BLSTM_to_BLSTM/']\n",
    "params= dict()"
   ]
  },
  {
   "cell_type": "code",
   "execution_count": 17,
   "metadata": {
    "collapsed": false
   },
   "outputs": [
    {
     "name": "stdout",
     "output_type": "stream",
     "text": [
      "W_c_h_bw_layer1\n",
      "W_o_h_fw_layer1\n",
      "peephole_o_c_bw_layer1\n",
      "W_f_h_fw_layer1\n",
      "W_o_h_bw_layer1\n",
      "b_f_bw_layer1\n",
      "W_o_x_bw_layer1\n",
      "b_c_bw_layer1\n",
      "W_i_h_bw_layer1\n",
      "b_o_fw_layer1\n",
      "W_f_x_bw_layer1\n",
      "W_i_x_fw_layer1\n",
      "W_i_x_bw_layer1\n",
      "peephole_i_c_fw_layer1\n",
      "W_o_x_fw_layer1\n",
      "b_i_fw_layer1\n",
      "W_c_x_fw_layer1\n",
      "peephole_f_c_fw_layer1\n",
      "W_i_h_fw_layer1\n",
      "b_i_bw_layer1\n",
      "peephole_o_c_fw_layer1\n",
      "b_o_bw_layer1\n",
      "peephole_f_c_bw_layer1\n",
      "peephole_i_c_bw_layer1\n",
      "W_c_h_fw_layer1\n",
      "W_c_x_bw_layer1\n",
      "W_f_x_fw_layer1\n",
      "W_f_h_bw_layer1\n",
      "b_f_fw_layer1\n",
      "b_c_fw_layer1\n",
      "weights\n",
      "biases\n",
      "peephole_f_c_fw_layer2\n",
      "W_o_h_fw_layer2\n",
      "b_o_fw_layer2\n",
      "W_o_h_bw_layer2\n",
      "W_o_x_fw_layer2\n",
      "W_i_x_bw_layer2\n",
      "peephole_o_c_bw_layer2\n",
      "W_c_h_fw_layer2\n",
      "b_c_fw_layer2\n",
      "W_o_x_bw_layer2\n",
      "W_f_x_fw_layer2\n",
      "W_f_h_fw_layer2\n",
      "W_f_h_bw_layer2\n",
      "W_c_x_fw_layer2\n",
      "W_i_h_fw_layer2\n",
      "peephole_i_c_bw_layer2\n",
      "peephole_i_c_fw_layer2\n",
      "peephole_f_c_bw_layer2\n",
      "b_c_bw_layer2\n",
      "W_c_h_bw_layer2\n",
      "b_o_bw_layer2\n",
      "W_c_x_bw_layer2\n",
      "b_i_fw_layer2\n",
      "peephole_o_c_fw_layer2\n",
      "b_f_bw_layer2\n",
      "W_i_h_bw_layer2\n",
      "W_f_x_bw_layer2\n",
      "b_i_bw_layer2\n",
      "b_f_fw_layer2\n",
      "W_i_x_fw_layer2\n"
     ]
    }
   ],
   "source": [
    "for dir_ in dir_list:\n",
    "    for filename in os.listdir(dir_):\n",
    "        with open(dir_+filename) as infile:\n",
    "            print str(filename)[:-4]\n",
    "            params[str(filename)[:-4]]= [map(float, line.split()) for line in infile]\n",
    "        "
   ]
  },
  {
   "cell_type": "code",
   "execution_count": 18,
   "metadata": {
    "collapsed": false
   },
   "outputs": [],
   "source": [
    "params = np.array(params)"
   ]
  },
  {
   "cell_type": "code",
   "execution_count": 19,
   "metadata": {
    "collapsed": false
   },
   "outputs": [
    {
     "data": {
      "text/plain": [
       "u'/home/blazingboosh/EDGE_IN/speech/BiLSTM'"
      ]
     },
     "execution_count": 19,
     "metadata": {},
     "output_type": "execute_result"
    }
   ],
   "source": [
    "pwd "
   ]
  },
  {
   "cell_type": "code",
   "execution_count": 20,
   "metadata": {
    "collapsed": true
   },
   "outputs": [],
   "source": [
    "np.save('BiLSTM_parameters', params)"
   ]
  },
  {
   "cell_type": "code",
   "execution_count": 21,
   "metadata": {
    "collapsed": true
   },
   "outputs": [],
   "source": [
    "import get_params"
   ]
  },
  {
   "cell_type": "code",
   "execution_count": 22,
   "metadata": {
    "collapsed": true
   },
   "outputs": [],
   "source": [
    "x=get_params.layer1()"
   ]
  },
  {
   "cell_type": "code",
   "execution_count": null,
   "metadata": {
    "collapsed": false
   },
   "outputs": [],
   "source": []
  },
  {
   "cell_type": "code",
   "execution_count": null,
   "metadata": {
    "collapsed": true
   },
   "outputs": [],
   "source": []
  }
 ],
 "metadata": {
  "kernelspec": {
   "display_name": "Python 2",
   "language": "python",
   "name": "python2"
  },
  "language_info": {
   "codemirror_mode": {
    "name": "ipython",
    "version": 2
   },
   "file_extension": ".py",
   "mimetype": "text/x-python",
   "name": "python",
   "nbconvert_exporter": "python",
   "pygments_lexer": "ipython2",
   "version": "2.7.13"
  }
 },
 "nbformat": 4,
 "nbformat_minor": 2
}
